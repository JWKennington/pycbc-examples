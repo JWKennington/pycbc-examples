{
 "cells": [
  {
   "cell_type": "markdown",
   "metadata": {},
   "source": [
    "# PyCBC Example: Loading Data"
   ]
  },
  {
   "cell_type": "markdown",
   "metadata": {},
   "source": [
    "## Exploring the Catalog"
   ]
  },
  {
   "cell_type": "markdown",
   "metadata": {},
   "source": [
    "This example shows how to explore the Catalog of available Mergers. Currently, the list of available\n",
    "Mergers can be found at the following url: https://www.gw-openscience.org/catalog/GWTC-1-confident/html/.\n",
    "\n",
    "PyCBC has a Catalog class that is capable of using the GWOSC data api to see essentially the same information\n",
    "contained in the link above (albeit through JSON instead of HTML). Under the hood, PyCBC relies on AstroPy\n",
    "data access file download utilities.\n",
    "\n",
    "The Catalog class is iterable, so you can pick your favorite technique to iterate over the available\n",
    "Mergers in the GWOSC center (we use the list coercion function below).\n",
    "\n",
    "Each Merger object has several parameters set, though they are not inspectable since they are set using\n",
    "\"setattr\". The Enum above contains constants associated to these attributes. Each attribute may be\n",
    "accessed directly, but the preferred way is through the \"median1d\" method of the Merger class. Keep\n",
    "in mind that these parameters are in the *source* frame, not the *detector* frame."
   ]
  },
  {
   "cell_type": "code",
   "execution_count": 10,
   "metadata": {},
   "outputs": [],
   "source": [
    "import enum\n",
    "from pycbc import catalog, frame\n",
    "\n",
    "class MergerParameters(enum.Enum):\n",
    "    \"\"\"Useful enumeration of Merger class parameters. These parameters\n",
    "    get set using setattr, so code inspection doesn't work naturally - this\n",
    "    Enum can help recall the attributes in an inspectable way.\n",
    "    \"\"\"\n",
    "    ChirpMass = 'mchirp'\n",
    "    EffInspiralSpin = 'chi_eff'\n",
    "    FinalMass = 'mfinal'\n",
    "    FinalSpin = 'a_final'\n",
    "    LuminosityDistance = 'distance'\n",
    "    Mass1 = 'mass1'\n",
    "    Mass2 = 'mass2'\n",
    "    PeakLuminosity = 'L_peak'\n",
    "    RadiatedEnergy = 'E_rad'\n",
    "    Redshift = 'redshift'\n",
    "    SkySize = 'sky_size'\n",
    "    SignalNoiseRatio_CWB = 'snr_cwb'\n",
    "    SignalNoiseRatio_GSTLAL = 'snr_gstlal'\n",
    "    SignalNoiseRatio_PYCBC = 'snr_pycbc'\n",
    "\n",
    "\n",
    "class Observatory(enum.Enum):\n",
    "    \"\"\"Helpful enumeration of observatories for loading strain data\"\"\"\n",
    "    LIGOHanford = 'H1'\n",
    "    LIGOLivingston = 'L1'\n",
    "    VIRGO = 'V1'"
   ]
  },
  {
   "cell_type": "code",
   "execution_count": 11,
   "metadata": {},
   "outputs": [],
   "source": [
    "# The \"source\" argument below refers to the Gravitational-Wave Transient Catalog 1\n",
    "# (Compact Binary Mergers oberved in O1 and O2).\n",
    "cat = catalog.Catalog(source='gwtc-1')"
   ]
  },
  {
   "cell_type": "code",
   "execution_count": 12,
   "metadata": {},
   "outputs": [
    {
     "name": "stdout",
     "output_type": "stream",
     "text": [
      "Mergers in catalog:\n",
      "    GW150914: M1=36 M2=31 z=0.09\n",
      "    GW151012: M1=23 M2=14 z=0.21\n",
      "    GW151226: M1=14 M2=8 z=0.09\n",
      "    GW170104: M1=31 M2=20 z=0.19\n",
      "    GW170608: M1=11 M2=8 z=0.07\n",
      "    GW170729: M1=51 M2=34 z=0.48\n",
      "    GW170809: M1=35 M2=24 z=0.20\n",
      "    GW170814: M1=31 M2=25 z=0.12\n",
      "    GW170817: M1=1 M2=1 z=0.01\n",
      "    GW170818: M1=36 M2=27 z=0.20\n",
      "    GW170823: M1=40 M2=29 z=0.34\n"
     ]
    }
   ],
   "source": [
    "# Get names of mergers in catalog - all merger data is keyed by name in the \"mergers\" dict\n",
    "merger_names = list(cat)  # Catalog class is iterable, any collection coercion will suffice\n",
    "\n",
    "# Log the names of the mergers in the catalog\n",
    "print('Mergers in catalog:')\n",
    "for name in merger_names:\n",
    "    m = cat.mergers[name]\n",
    "\n",
    "    # Print some merger info by accessing parameters through the \"median1d\" method\n",
    "    print('    {}: M1={:.0f} M2={:.0f} z={:.2f}'.format(name,\n",
    "                                                        m.median1d(MergerParameters.Mass1.value),     # m.mass1\n",
    "                                                        m.median1d(MergerParameters.Mass2.value),     # m.mass2\n",
    "                                                        m.median1d(MergerParameters.Redshift.value))) # m.redshift"
   ]
  },
  {
   "cell_type": "markdown",
   "metadata": {},
   "source": [
    "## Merger Strain"
   ]
  },
  {
   "cell_type": "markdown",
   "metadata": {},
   "source": [
    "A Merger object loads several scalar parameters once instantiated, however, it is also\n",
    "possible to load the strain timeseries around the event. The time series data will be return\n",
    "as an instance of pycbc.types.timeseries.TimeSeries, which is a thin wrapper around a numpy\n",
    "or pycuda array with additional metadata. This example shows how to load the data and how to\n",
    "do some useful manipulations."
   ]
  },
  {
   "cell_type": "code",
   "execution_count": 13,
   "metadata": {},
   "outputs": [
    {
     "name": "stdout",
     "output_type": "stream",
     "text": [
      "Duration=32s Interval=2.4e-04s Start=1187529241 End=1187529273\n"
     ]
    }
   ],
   "source": [
    "# Pick a merger from the catalog\n",
    "m = catalog.Merger('GW170823')\n",
    "\n",
    "# Query the strain timeseries for the merger\n",
    "ts = m.strain(ifo=Observatory.LIGOHanford.value) # the \"ifo\" argument refers to the observatory that recorded the strain\n",
    "\n",
    "# Print the boundaries of the timeseries\n",
    "print('Duration={:.0f}s Interval={:.1e}s Start={} End={}'.format(ts.duration, ts.delta_t, ts.start_time, ts.end_time))"
   ]
  },
  {
   "cell_type": "code",
   "execution_count": null,
   "metadata": {},
   "outputs": [],
   "source": []
  },
  {
   "cell_type": "code",
   "execution_count": null,
   "metadata": {},
   "outputs": [],
   "source": []
  },
  {
   "cell_type": "code",
   "execution_count": null,
   "metadata": {},
   "outputs": [],
   "source": []
  }
 ],
 "metadata": {
  "kernelspec": {
   "display_name": "Python 3",
   "language": "python",
   "name": "python3"
  },
  "language_info": {
   "codemirror_mode": {
    "name": "ipython",
    "version": 3
   },
   "file_extension": ".py",
   "mimetype": "text/x-python",
   "name": "python",
   "nbconvert_exporter": "python",
   "pygments_lexer": "ipython3",
   "version": "3.7.4"
  }
 },
 "nbformat": 4,
 "nbformat_minor": 2
}
